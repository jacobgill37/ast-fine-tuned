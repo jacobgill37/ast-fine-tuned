{
 "cells": [
  {
   "cell_type": "code",
   "execution_count": 3,
   "metadata": {},
   "outputs": [
    {
     "name": "stderr",
     "output_type": "stream",
     "text": [
      "/home/jacob/.cache/pypoetry/virtualenvs/ast-fine-tuned-6uKXIvoX-py3.10/lib/python3.10/site-packages/transformers/audio_utils.py:297: UserWarning: At least one mel filter has all zero values. The value for `num_mel_filters` (128) may be set too high. Or, the value for `num_frequency_bins` (256) may be set too low.\n",
      "  warnings.warn(\n"
     ]
    },
    {
     "name": "stdout",
     "output_type": "stream",
     "text": [
      "[[{'score': 0.9262377023696899, 'label': 'disco'}, {'score': 0.047430217266082764, 'label': 'pop'}, {'score': 0.01274606678634882, 'label': 'hiphop'}, {'score': 0.005143564194440842, 'label': 'classical'}, {'score': 0.004327877890318632, 'label': 'jazz'}], [{'score': 0.9969292283058167, 'label': 'reggae'}, {'score': 0.001632344676181674, 'label': 'blues'}, {'score': 0.0005292171845212579, 'label': 'hiphop'}, {'score': 0.0004077220510225743, 'label': 'pop'}, {'score': 0.0003045228368137032, 'label': 'rock'}], [{'score': 0.4307674169540405, 'label': 'pop'}, {'score': 0.39002829790115356, 'label': 'rock'}, {'score': 0.1591382622718811, 'label': 'hiphop'}, {'score': 0.010300702415406704, 'label': 'metal'}, {'score': 0.004570068791508675, 'label': 'reggae'}], [{'score': 0.9922381043434143, 'label': 'metal'}, {'score': 0.0058446601033210754, 'label': 'hiphop'}, {'score': 0.0013407334918156266, 'label': 'rock'}, {'score': 0.00026284082559868693, 'label': 'blues'}, {'score': 0.00010161906538996845, 'label': 'jazz'}], [{'score': 0.8496774435043335, 'label': 'pop'}, {'score': 0.1171702966094017, 'label': 'country'}, {'score': 0.02201056107878685, 'label': 'rock'}, {'score': 0.009578075259923935, 'label': 'reggae'}, {'score': 0.0007792554679326713, 'label': 'blues'}], [{'score': 0.9973549842834473, 'label': 'metal'}, {'score': 0.0014349013799801469, 'label': 'hiphop'}, {'score': 0.000950488552916795, 'label': 'rock'}, {'score': 9.993180719902739e-05, 'label': 'blues'}, {'score': 6.471259985119104e-05, 'label': 'jazz'}], [{'score': 0.9980042576789856, 'label': 'metal'}, {'score': 0.0015077017014846206, 'label': 'rock'}, {'score': 0.00022622493270318955, 'label': 'hiphop'}, {'score': 0.00012581999180838466, 'label': 'blues'}, {'score': 4.790074672200717e-05, 'label': 'pop'}], [{'score': 0.9975282549858093, 'label': 'classical'}, {'score': 0.0014188182540237904, 'label': 'pop'}, {'score': 0.0004316445265430957, 'label': 'reggae'}, {'score': 0.00032985914731398225, 'label': 'disco'}, {'score': 9.913343819789588e-05, 'label': 'hiphop'}]]\n",
      "{'score': 0.9262377023696899, 'label': 'disco'}\n",
      "{'score': 0.9969292283058167, 'label': 'reggae'}\n",
      "{'score': 0.4307674169540405, 'label': 'pop'}\n",
      "{'score': 0.9922381043434143, 'label': 'metal'}\n",
      "{'score': 0.8496774435043335, 'label': 'pop'}\n",
      "{'score': 0.9973549842834473, 'label': 'metal'}\n",
      "{'score': 0.9980042576789856, 'label': 'metal'}\n",
      "{'score': 0.9975282549858093, 'label': 'classical'}\n"
     ]
    }
   ],
   "source": [
    "from transformers import pipeline\n",
    "\n",
    "model_name = \"models/ast-finetuned-audioset-10-10-0.4593-finetuned-gtzan/checkpoint-452\"\n",
    "\n",
    "classifier = pipeline(\"audio-classification\", model=model_name, device=0)\n",
    "\n",
    "output = classifier(\n",
    "    [\n",
    "        \"audio_files/80s-retro-synth-wave-medium-2-version-223101.mp3\",\n",
    "        \"audio_files/dreaming-of-reggae-217732.mp3\",\n",
    "        \"audio_files/powerful-epic-rock-248903.mp3\",\n",
    "        \"audio_files/stream.mp3\",\n",
    "        \"audio_files/stream2.mp3\",\n",
    "        \"audio_files/stream3.mp3\",\n",
    "        \"audio_files/planetrock/audio_1739455581.877873.mp3\",\n",
    "        \"audio_files/classic_fm/audio_1739455740.5999486.mp3\",\n",
    "    ]\n",
    ")\n",
    "\n",
    "print(output)\n",
    "for sublist in output:\n",
    "    print(sublist[0])"
   ]
  }
 ],
 "metadata": {
  "kernelspec": {
   "display_name": "ast-fine-tuned-6uKXIvoX-py3.10",
   "language": "python",
   "name": "python3"
  },
  "language_info": {
   "codemirror_mode": {
    "name": "ipython",
    "version": 3
   },
   "file_extension": ".py",
   "mimetype": "text/x-python",
   "name": "python",
   "nbconvert_exporter": "python",
   "pygments_lexer": "ipython3",
   "version": "3.10.12"
  }
 },
 "nbformat": 4,
 "nbformat_minor": 2
}
