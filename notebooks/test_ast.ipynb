{
 "cells": [
  {
   "cell_type": "code",
   "execution_count": null,
   "metadata": {},
   "outputs": [],
   "source": [
    "from transformers import pipeline\n",
    "\n",
    "model_name = \"ast-finetuned-audioset-10-10-0.4593-finetuned-dataset/checkpoint-12\"\n",
    "\n",
    "classifier = pipeline(\"audio-classification\", model=model_name, device=0)\n",
    "\n",
    "output = classifier(\n",
    "    [\n",
    "        \"../audio_files/80s-retro-synth-wave-medium-2-version-223101.mp3\",\n",
    "        \"../audio_files/dreaming-of-reggae-217732.mp3\",\n",
    "        \"../audio_files/powerful-epic-rock-248903.mp3\",\n",
    "        \"../audio_files/stream.mp3\",\n",
    "        \"../audio_files/stream2.mp3\",\n",
    "        \"../audio_files/stream3.mp3\",\n",
    "    ]\n",
    ")\n",
    "\n",
    "print(output)\n",
    "for sublist in output:\n",
    "    print(sublist[0])"
   ]
  }
 ],
 "metadata": {
  "kernelspec": {
   "display_name": "ast-fine-tuned-6uKXIvoX-py3.10",
   "language": "python",
   "name": "python3"
  },
  "language_info": {
   "codemirror_mode": {
    "name": "ipython",
    "version": 3
   },
   "file_extension": ".py",
   "mimetype": "text/x-python",
   "name": "python",
   "nbconvert_exporter": "python",
   "pygments_lexer": "ipython3",
   "version": "3.10.12"
  }
 },
 "nbformat": 4,
 "nbformat_minor": 2
}
