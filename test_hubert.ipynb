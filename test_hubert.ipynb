{
 "cells": [
  {
   "cell_type": "code",
   "execution_count": 1,
   "metadata": {},
   "outputs": [
    {
     "name": "stderr",
     "output_type": "stream",
     "text": [
      "/home/jacob/.cache/pypoetry/virtualenvs/ast-fine-tuned-6uKXIvoX-py3.10/lib/python3.10/site-packages/tqdm/auto.py:21: TqdmWarning: IProgress not found. Please update jupyter and ipywidgets. See https://ipywidgets.readthedocs.io/en/stable/user_install.html\n",
      "  from .autonotebook import tqdm as notebook_tqdm\n"
     ]
    },
    {
     "name": "stdout",
     "output_type": "stream",
     "text": [
      "[[{'score': 0.8359705805778503, 'label': 'disco'}, {'score': 0.07591427117586136, 'label': 'reggae'}, {'score': 0.047974858433008194, 'label': 'hiphop'}, {'score': 0.017098549753427505, 'label': 'pop'}, {'score': 0.008336302824318409, 'label': 'rock'}], [{'score': 0.8691219091415405, 'label': 'reggae'}, {'score': 0.07571885734796524, 'label': 'hiphop'}, {'score': 0.03892843797802925, 'label': 'blues'}, {'score': 0.006575872655957937, 'label': 'classical'}, {'score': 0.0038647756446152925, 'label': 'disco'}], [{'score': 0.5603878498077393, 'label': 'hiphop'}, {'score': 0.39278435707092285, 'label': 'metal'}, {'score': 0.011860944330692291, 'label': 'jazz'}, {'score': 0.007799150422215462, 'label': 'rock'}, {'score': 0.00732860853895545, 'label': 'disco'}]]\n"
     ]
    }
   ],
   "source": [
    "from transformers import pipeline\n",
    "\n",
    "model_name = \"distilhubert-finetuned-gtzan/checkpoint-1017\"\n",
    "\n",
    "classifier = pipeline(\"audio-classification\", model=model_name, device=0)\n",
    "\n",
    "output = classifier(\n",
    "    [\n",
    "        \"audio_files/80s-retro-synth-wave-medium-2-version-223101.mp3\",\n",
    "        \"audio_files/dreaming-of-reggae-217732.mp3\",\n",
    "        \"audio_files/powerful-epic-rock-248903.mp3\",\n",
    "    ]\n",
    ")\n",
    "\n",
    "print(output)"
   ]
  }
 ],
 "metadata": {
  "kernelspec": {
   "display_name": "ast-fine-tuned-6uKXIvoX-py3.10",
   "language": "python",
   "name": "python3"
  },
  "language_info": {
   "codemirror_mode": {
    "name": "ipython",
    "version": 3
   },
   "file_extension": ".py",
   "mimetype": "text/x-python",
   "name": "python",
   "nbconvert_exporter": "python",
   "pygments_lexer": "ipython3",
   "version": "3.10.12"
  }
 },
 "nbformat": 4,
 "nbformat_minor": 2
}
